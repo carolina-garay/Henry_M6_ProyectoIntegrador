{
  "cells": [
    {
      "cell_type": "markdown",
      "metadata": {
        "id": "view-in-github",
        "colab_type": "text"
      },
      "source": [
        "<a href=\"https://colab.research.google.com/github/carolina-garay/Henry_M6_ProyectoIntegrador/blob/main/Proyecto_Integrador_3_Modelamiento_Garay.ipynb\" target=\"_parent\"><img src=\"https://colab.research.google.com/assets/colab-badge.svg\" alt=\"Open In Colab\"/></a>"
      ]
    },
    {
      "cell_type": "markdown",
      "source": [
        "![HenryLogo](https://d31uz8lwfmyn8g.cloudfront.net/Assets/logo-henry-white-lg.png)\n",
        "\n",
        "# **Proyecto integrador**\n",
        "\n",
        "**Alumna: Carolina del Valle Garay**\n",
        "\n",
        "### 3. Modelamiento\n",
        "\n",
        "Una vez preparados los datos, se procederá con el modelamiento. Recuerden que el objetivo es clasificar a un paciente como hospitalizado o no hospitalizado, teniendo en cuenta un data set que contiene información referente a antecedentes del paciente, morbilidad asociada al paciente y antecedentes relacionados con la toma de la biopsia y complicaciones infecciosas.\n",
        "\n",
        "\n"
      ],
      "metadata": {
        "id": "4WaoEOp0KkSp"
      }
    },
    {
      "cell_type": "code",
      "source": [
        "#Importamos librerías\n",
        "import matplotlib.pyplot as plt\n",
        "import numpy as np\n",
        "import pandas as pd\n",
        "import seaborn as sns"
      ],
      "metadata": {
        "id": "1aiYbIsuTC-k"
      },
      "execution_count": 1,
      "outputs": []
    },
    {
      "cell_type": "code",
      "source": [
        "from sklearn.preprocessing import StandardScaler\n",
        "from sklearn.model_selection import train_test_split\n",
        "from sklearn.tree import DecisionTreeClassifier\n",
        "from sklearn import tree\n",
        "\n",
        "from sklearn.metrics import classification_report\n",
        "from sklearn.metrics import confusion_matrix\n",
        "from sklearn.metrics import accuracy_score\n",
        "from sklearn.model_selection import GridSearchCV"
      ],
      "metadata": {
        "id": "N9QfXGC7oulV"
      },
      "execution_count": 96,
      "outputs": []
    },
    {
      "cell_type": "markdown",
      "source": [
        "Cargamos la base de datos preparada desde la fase 2."
      ],
      "metadata": {
        "id": "E22GkymtLevx"
      }
    },
    {
      "cell_type": "code",
      "source": [
        "!gdown https://drive.google.com/file/d/1_2uu8taeZ3zeS-iGIAm5kLlpYVUrWMMB/view?usp=sharing --fuzzy"
      ],
      "metadata": {
        "colab": {
          "base_uri": "https://localhost:8080/"
        },
        "id": "toQ9ZXdJStjT",
        "outputId": "2764beab-ea4b-447f-c81d-ad11eaa2348a"
      },
      "execution_count": 3,
      "outputs": [
        {
          "output_type": "stream",
          "name": "stdout",
          "text": [
            "Downloading...\n",
            "From: https://drive.google.com/uc?id=1_2uu8taeZ3zeS-iGIAm5kLlpYVUrWMMB\n",
            "To: /content/Hospital_Garay.csv\n",
            "\r  0% 0.00/37.4k [00:00<?, ?B/s]\r100% 37.4k/37.4k [00:00<00:00, 17.2MB/s]\n"
          ]
        }
      ]
    },
    {
      "cell_type": "code",
      "source": [
        "data = pd.read_csv(\"/content/Hospital_Garay.csv\")"
      ],
      "metadata": {
        "id": "dlRCMYtGLqDJ"
      },
      "execution_count": 4,
      "outputs": []
    },
    {
      "cell_type": "code",
      "source": [
        "data.shape"
      ],
      "metadata": {
        "colab": {
          "base_uri": "https://localhost:8080/"
        },
        "id": "9y_VD0qSkk9J",
        "outputId": "3f94b097-21c3-4952-9be4-4e08d3f5b565"
      },
      "execution_count": 5,
      "outputs": [
        {
          "output_type": "execute_result",
          "data": {
            "text/plain": [
              "(563, 26)"
            ]
          },
          "metadata": {},
          "execution_count": 5
        }
      ]
    },
    {
      "cell_type": "markdown",
      "source": [
        "Separen el dataset en X, y (variable objetivo)"
      ],
      "metadata": {
        "id": "X33Od3Y_Lrye"
      }
    },
    {
      "cell_type": "code",
      "source": [
        "data.columns"
      ],
      "metadata": {
        "colab": {
          "base_uri": "https://localhost:8080/"
        },
        "id": "EukTmhLVn_Q7",
        "outputId": "21e6d52c-3e94-485f-d2d6-a2641640859e"
      },
      "execution_count": 6,
      "outputs": [
        {
          "output_type": "execute_result",
          "data": {
            "text/plain": [
              "Index(['BIOPSIA_NEG', 'BIOPSIA_ADENOCARCINOMA GLEASON 6 ',\n",
              "       'BIOPSIA_ADENOCARCINOMA GLEASON 7 ', 'BIOPSIA_ADENOCARCINOMA GLEASON 6',\n",
              "       'BIOPSIA_ADENOCARCINOMA GLEASON 10 ',\n",
              "       'BIOPSIA_ADENOCARCINOMA GLEASON 9 ',\n",
              "       'BIOPSIA_ADENOCARCINOMA GLEASON 8 ', 'BIOPSIA_PROSTATITIS',\n",
              "       'BIOPSIA_HIPERPLASIA PROSTATICA', 'BIOPSIA_ADENOCARCINOMA GLEASON 7',\n",
              "       'BIOPSIA_CARCINOMA INDIFERENCIADO DE CELULAS CLARAS', 'edad',\n",
              "       'diabetes', 'hospitaliz_ult_mes', 'PSA', 'vol_prostatico',\n",
              "       'Enfermedad_pulmonar', 'nro_dias_post_bipsia_infeccion', 'fiebre',\n",
              "       'infecc_tract_urinario', 'HOSPITALIZACION', 'dias_hosp_quirurgica',\n",
              "       'dias_hosp_pac_critico', 'PSA_ref', 'Enf_pulmonar_ref',\n",
              "       'vol_prostatico_ref'],\n",
              "      dtype='object')"
            ]
          },
          "metadata": {},
          "execution_count": 6
        }
      ]
    },
    {
      "cell_type": "code",
      "source": [
        "features = ['BIOPSIA_NEG', 'BIOPSIA_ADENOCARCINOMA GLEASON 6 ',\n",
        "       'BIOPSIA_ADENOCARCINOMA GLEASON 7 ', 'BIOPSIA_ADENOCARCINOMA GLEASON 6',\n",
        "       'BIOPSIA_ADENOCARCINOMA GLEASON 10 ',\n",
        "       'BIOPSIA_ADENOCARCINOMA GLEASON 9 ',\n",
        "       'BIOPSIA_ADENOCARCINOMA GLEASON 8 ', 'BIOPSIA_PROSTATITIS',\n",
        "       'BIOPSIA_HIPERPLASIA PROSTATICA', 'BIOPSIA_ADENOCARCINOMA GLEASON 7',\n",
        "       'BIOPSIA_CARCINOMA INDIFERENCIADO DE CELULAS CLARAS', 'edad',\n",
        "       'diabetes',\n",
        "        'nro_dias_post_bipsia_infeccion', 'fiebre', 'PSA_ref', 'Enf_pulmonar_ref',\n",
        "       'vol_prostatico_ref']"
      ],
      "metadata": {
        "id": "Zjq3g_zkMUT5"
      },
      "execution_count": 7,
      "outputs": []
    },
    {
      "cell_type": "code",
      "source": [
        "features3 = ['BIOPSIA_ADENOCARCINOMA GLEASON 7 ', 'BIOPSIA_ADENOCARCINOMA GLEASON 6',\n",
        "       'BIOPSIA_ADENOCARCINOMA GLEASON 10 ',\n",
        "       'BIOPSIA_ADENOCARCINOMA GLEASON 9 ', 'edad',\n",
        "       'BIOPSIA_CARCINOMA INDIFERENCIADO DE CELULAS CLARAS',\n",
        "       'diabetes', 'PSA_ref', 'Enf_pulmonar_ref','vol_prostatico_ref']"
      ],
      "metadata": {
        "id": "HDDDYjfv5ueE"
      },
      "execution_count": 103,
      "outputs": []
    },
    {
      "cell_type": "code",
      "source": [
        "features4=[ 'diabetes','PSA_ref', 'vol_prostatico_ref','edad','Enf_pulmonar_ref', ]\n"
      ],
      "metadata": {
        "id": "UhqKflJ2_4GQ"
      },
      "execution_count": 76,
      "outputs": []
    },
    {
      "cell_type": "code",
      "source": [
        "features5=[ 'diabetes','PSA_ref', 'vol_prostatico_ref',\n",
        "           'Enf_pulmonar_ref', 'infecc_tract_urinario']\n"
      ],
      "metadata": {
        "id": "hkcwCmHbJ423"
      },
      "execution_count": 124,
      "outputs": []
    },
    {
      "cell_type": "code",
      "source": [
        "features6=[ 'diabetes','PSA_ref', 'vol_prostatico_ref',\n",
        "           'Enf_pulmonar_ref', 'infecc_tract_urinario',\n",
        "            'BIOPSIA_CARCINOMA INDIFERENCIADO DE CELULAS CLARAS']"
      ],
      "metadata": {
        "id": "nX83OZsaK3Ww"
      },
      "execution_count": 158,
      "outputs": []
    },
    {
      "cell_type": "code",
      "source": [],
      "metadata": {
        "id": "PCa1jv_mKzI2"
      },
      "execution_count": null,
      "outputs": []
    },
    {
      "cell_type": "code",
      "source": [
        "X = data[features6]\n",
        "y = data[\"HOSPITALIZACION\"]"
      ],
      "metadata": {
        "id": "dpd9nQOkoemX"
      },
      "execution_count": 159,
      "outputs": []
    },
    {
      "cell_type": "code",
      "source": [
        "X.shape"
      ],
      "metadata": {
        "colab": {
          "base_uri": "https://localhost:8080/"
        },
        "id": "Thmct4DQ3uGa",
        "outputId": "feb4d31d-f7a2-4835-8526-954a088db0d4"
      },
      "execution_count": 160,
      "outputs": [
        {
          "output_type": "execute_result",
          "data": {
            "text/plain": [
              "(563, 6)"
            ]
          },
          "metadata": {},
          "execution_count": 160
        }
      ]
    },
    {
      "cell_type": "code",
      "source": [
        "y"
      ],
      "metadata": {
        "colab": {
          "base_uri": "https://localhost:8080/"
        },
        "id": "sv_lGy0Jy9JF",
        "outputId": "da5da23b-0ec0-46f9-fceb-42d4de55d25e"
      },
      "execution_count": 161,
      "outputs": [
        {
          "output_type": "execute_result",
          "data": {
            "text/plain": [
              "0      1\n",
              "1      1\n",
              "2      1\n",
              "3      1\n",
              "4      1\n",
              "      ..\n",
              "558    0\n",
              "559    0\n",
              "560    0\n",
              "561    0\n",
              "562    0\n",
              "Name: HOSPITALIZACION, Length: 563, dtype: int64"
            ]
          },
          "metadata": {},
          "execution_count": 161
        }
      ]
    },
    {
      "cell_type": "code",
      "source": [
        "X"
      ],
      "metadata": {
        "colab": {
          "base_uri": "https://localhost:8080/",
          "height": 424
        },
        "id": "GRIrFoPNzARd",
        "outputId": "72b955e0-dd34-4dde-b7ad-321b665a50cd"
      },
      "execution_count": 162,
      "outputs": [
        {
          "output_type": "execute_result",
          "data": {
            "text/plain": [
              "     diabetes  PSA_ref  vol_prostatico_ref  Enf_pulmonar_ref  \\\n",
              "0           0        1                   1                 1   \n",
              "1           0        1                   1                 1   \n",
              "2           0        1                   1                 1   \n",
              "3           0        1                   1                 1   \n",
              "4           0        1                   1                 1   \n",
              "..        ...      ...                 ...               ...   \n",
              "558         0        1                   1                 1   \n",
              "559         0        1                   1                 1   \n",
              "560         0        1                   0                 1   \n",
              "561         0        1                   1                 0   \n",
              "562         0        1                   1                 0   \n",
              "\n",
              "     infecc_tract_urinario  BIOPSIA_CARCINOMA INDIFERENCIADO DE CELULAS CLARAS  \n",
              "0                        0                                                  0   \n",
              "1                        0                                                  0   \n",
              "2                        0                                                  0   \n",
              "3                        0                                                  0   \n",
              "4                        0                                                  0   \n",
              "..                     ...                                                ...   \n",
              "558                      0                                                  0   \n",
              "559                      0                                                  0   \n",
              "560                      0                                                  0   \n",
              "561                      0                                                  0   \n",
              "562                      0                                                  0   \n",
              "\n",
              "[563 rows x 6 columns]"
            ],
            "text/html": [
              "\n",
              "  <div id=\"df-ddf1a117-9a4b-4f03-b87c-5b31c96f6037\" class=\"colab-df-container\">\n",
              "    <div>\n",
              "<style scoped>\n",
              "    .dataframe tbody tr th:only-of-type {\n",
              "        vertical-align: middle;\n",
              "    }\n",
              "\n",
              "    .dataframe tbody tr th {\n",
              "        vertical-align: top;\n",
              "    }\n",
              "\n",
              "    .dataframe thead th {\n",
              "        text-align: right;\n",
              "    }\n",
              "</style>\n",
              "<table border=\"1\" class=\"dataframe\">\n",
              "  <thead>\n",
              "    <tr style=\"text-align: right;\">\n",
              "      <th></th>\n",
              "      <th>diabetes</th>\n",
              "      <th>PSA_ref</th>\n",
              "      <th>vol_prostatico_ref</th>\n",
              "      <th>Enf_pulmonar_ref</th>\n",
              "      <th>infecc_tract_urinario</th>\n",
              "      <th>BIOPSIA_CARCINOMA INDIFERENCIADO DE CELULAS CLARAS</th>\n",
              "    </tr>\n",
              "  </thead>\n",
              "  <tbody>\n",
              "    <tr>\n",
              "      <th>0</th>\n",
              "      <td>0</td>\n",
              "      <td>1</td>\n",
              "      <td>1</td>\n",
              "      <td>1</td>\n",
              "      <td>0</td>\n",
              "      <td>0</td>\n",
              "    </tr>\n",
              "    <tr>\n",
              "      <th>1</th>\n",
              "      <td>0</td>\n",
              "      <td>1</td>\n",
              "      <td>1</td>\n",
              "      <td>1</td>\n",
              "      <td>0</td>\n",
              "      <td>0</td>\n",
              "    </tr>\n",
              "    <tr>\n",
              "      <th>2</th>\n",
              "      <td>0</td>\n",
              "      <td>1</td>\n",
              "      <td>1</td>\n",
              "      <td>1</td>\n",
              "      <td>0</td>\n",
              "      <td>0</td>\n",
              "    </tr>\n",
              "    <tr>\n",
              "      <th>3</th>\n",
              "      <td>0</td>\n",
              "      <td>1</td>\n",
              "      <td>1</td>\n",
              "      <td>1</td>\n",
              "      <td>0</td>\n",
              "      <td>0</td>\n",
              "    </tr>\n",
              "    <tr>\n",
              "      <th>4</th>\n",
              "      <td>0</td>\n",
              "      <td>1</td>\n",
              "      <td>1</td>\n",
              "      <td>1</td>\n",
              "      <td>0</td>\n",
              "      <td>0</td>\n",
              "    </tr>\n",
              "    <tr>\n",
              "      <th>...</th>\n",
              "      <td>...</td>\n",
              "      <td>...</td>\n",
              "      <td>...</td>\n",
              "      <td>...</td>\n",
              "      <td>...</td>\n",
              "      <td>...</td>\n",
              "    </tr>\n",
              "    <tr>\n",
              "      <th>558</th>\n",
              "      <td>0</td>\n",
              "      <td>1</td>\n",
              "      <td>1</td>\n",
              "      <td>1</td>\n",
              "      <td>0</td>\n",
              "      <td>0</td>\n",
              "    </tr>\n",
              "    <tr>\n",
              "      <th>559</th>\n",
              "      <td>0</td>\n",
              "      <td>1</td>\n",
              "      <td>1</td>\n",
              "      <td>1</td>\n",
              "      <td>0</td>\n",
              "      <td>0</td>\n",
              "    </tr>\n",
              "    <tr>\n",
              "      <th>560</th>\n",
              "      <td>0</td>\n",
              "      <td>1</td>\n",
              "      <td>0</td>\n",
              "      <td>1</td>\n",
              "      <td>0</td>\n",
              "      <td>0</td>\n",
              "    </tr>\n",
              "    <tr>\n",
              "      <th>561</th>\n",
              "      <td>0</td>\n",
              "      <td>1</td>\n",
              "      <td>1</td>\n",
              "      <td>0</td>\n",
              "      <td>0</td>\n",
              "      <td>0</td>\n",
              "    </tr>\n",
              "    <tr>\n",
              "      <th>562</th>\n",
              "      <td>0</td>\n",
              "      <td>1</td>\n",
              "      <td>1</td>\n",
              "      <td>0</td>\n",
              "      <td>0</td>\n",
              "      <td>0</td>\n",
              "    </tr>\n",
              "  </tbody>\n",
              "</table>\n",
              "<p>563 rows × 6 columns</p>\n",
              "</div>\n",
              "    <div class=\"colab-df-buttons\">\n",
              "\n",
              "  <div class=\"colab-df-container\">\n",
              "    <button class=\"colab-df-convert\" onclick=\"convertToInteractive('df-ddf1a117-9a4b-4f03-b87c-5b31c96f6037')\"\n",
              "            title=\"Convert this dataframe to an interactive table.\"\n",
              "            style=\"display:none;\">\n",
              "\n",
              "  <svg xmlns=\"http://www.w3.org/2000/svg\" height=\"24px\" viewBox=\"0 -960 960 960\">\n",
              "    <path d=\"M120-120v-720h720v720H120Zm60-500h600v-160H180v160Zm220 220h160v-160H400v160Zm0 220h160v-160H400v160ZM180-400h160v-160H180v160Zm440 0h160v-160H620v160ZM180-180h160v-160H180v160Zm440 0h160v-160H620v160Z\"/>\n",
              "  </svg>\n",
              "    </button>\n",
              "\n",
              "  <style>\n",
              "    .colab-df-container {\n",
              "      display:flex;\n",
              "      gap: 12px;\n",
              "    }\n",
              "\n",
              "    .colab-df-convert {\n",
              "      background-color: #E8F0FE;\n",
              "      border: none;\n",
              "      border-radius: 50%;\n",
              "      cursor: pointer;\n",
              "      display: none;\n",
              "      fill: #1967D2;\n",
              "      height: 32px;\n",
              "      padding: 0 0 0 0;\n",
              "      width: 32px;\n",
              "    }\n",
              "\n",
              "    .colab-df-convert:hover {\n",
              "      background-color: #E2EBFA;\n",
              "      box-shadow: 0px 1px 2px rgba(60, 64, 67, 0.3), 0px 1px 3px 1px rgba(60, 64, 67, 0.15);\n",
              "      fill: #174EA6;\n",
              "    }\n",
              "\n",
              "    .colab-df-buttons div {\n",
              "      margin-bottom: 4px;\n",
              "    }\n",
              "\n",
              "    [theme=dark] .colab-df-convert {\n",
              "      background-color: #3B4455;\n",
              "      fill: #D2E3FC;\n",
              "    }\n",
              "\n",
              "    [theme=dark] .colab-df-convert:hover {\n",
              "      background-color: #434B5C;\n",
              "      box-shadow: 0px 1px 3px 1px rgba(0, 0, 0, 0.15);\n",
              "      filter: drop-shadow(0px 1px 2px rgba(0, 0, 0, 0.3));\n",
              "      fill: #FFFFFF;\n",
              "    }\n",
              "  </style>\n",
              "\n",
              "    <script>\n",
              "      const buttonEl =\n",
              "        document.querySelector('#df-ddf1a117-9a4b-4f03-b87c-5b31c96f6037 button.colab-df-convert');\n",
              "      buttonEl.style.display =\n",
              "        google.colab.kernel.accessAllowed ? 'block' : 'none';\n",
              "\n",
              "      async function convertToInteractive(key) {\n",
              "        const element = document.querySelector('#df-ddf1a117-9a4b-4f03-b87c-5b31c96f6037');\n",
              "        const dataTable =\n",
              "          await google.colab.kernel.invokeFunction('convertToInteractive',\n",
              "                                                    [key], {});\n",
              "        if (!dataTable) return;\n",
              "\n",
              "        const docLinkHtml = 'Like what you see? Visit the ' +\n",
              "          '<a target=\"_blank\" href=https://colab.research.google.com/notebooks/data_table.ipynb>data table notebook</a>'\n",
              "          + ' to learn more about interactive tables.';\n",
              "        element.innerHTML = '';\n",
              "        dataTable['output_type'] = 'display_data';\n",
              "        await google.colab.output.renderOutput(dataTable, element);\n",
              "        const docLink = document.createElement('div');\n",
              "        docLink.innerHTML = docLinkHtml;\n",
              "        element.appendChild(docLink);\n",
              "      }\n",
              "    </script>\n",
              "  </div>\n",
              "\n",
              "\n",
              "<div id=\"df-281ed5ae-1f5e-4c33-8759-4a18ad257d3a\">\n",
              "  <button class=\"colab-df-quickchart\" onclick=\"quickchart('df-281ed5ae-1f5e-4c33-8759-4a18ad257d3a')\"\n",
              "            title=\"Suggest charts\"\n",
              "            style=\"display:none;\">\n",
              "\n",
              "<svg xmlns=\"http://www.w3.org/2000/svg\" height=\"24px\"viewBox=\"0 0 24 24\"\n",
              "     width=\"24px\">\n",
              "    <g>\n",
              "        <path d=\"M19 3H5c-1.1 0-2 .9-2 2v14c0 1.1.9 2 2 2h14c1.1 0 2-.9 2-2V5c0-1.1-.9-2-2-2zM9 17H7v-7h2v7zm4 0h-2V7h2v10zm4 0h-2v-4h2v4z\"/>\n",
              "    </g>\n",
              "</svg>\n",
              "  </button>\n",
              "\n",
              "<style>\n",
              "  .colab-df-quickchart {\n",
              "      --bg-color: #E8F0FE;\n",
              "      --fill-color: #1967D2;\n",
              "      --hover-bg-color: #E2EBFA;\n",
              "      --hover-fill-color: #174EA6;\n",
              "      --disabled-fill-color: #AAA;\n",
              "      --disabled-bg-color: #DDD;\n",
              "  }\n",
              "\n",
              "  [theme=dark] .colab-df-quickchart {\n",
              "      --bg-color: #3B4455;\n",
              "      --fill-color: #D2E3FC;\n",
              "      --hover-bg-color: #434B5C;\n",
              "      --hover-fill-color: #FFFFFF;\n",
              "      --disabled-bg-color: #3B4455;\n",
              "      --disabled-fill-color: #666;\n",
              "  }\n",
              "\n",
              "  .colab-df-quickchart {\n",
              "    background-color: var(--bg-color);\n",
              "    border: none;\n",
              "    border-radius: 50%;\n",
              "    cursor: pointer;\n",
              "    display: none;\n",
              "    fill: var(--fill-color);\n",
              "    height: 32px;\n",
              "    padding: 0;\n",
              "    width: 32px;\n",
              "  }\n",
              "\n",
              "  .colab-df-quickchart:hover {\n",
              "    background-color: var(--hover-bg-color);\n",
              "    box-shadow: 0 1px 2px rgba(60, 64, 67, 0.3), 0 1px 3px 1px rgba(60, 64, 67, 0.15);\n",
              "    fill: var(--button-hover-fill-color);\n",
              "  }\n",
              "\n",
              "  .colab-df-quickchart-complete:disabled,\n",
              "  .colab-df-quickchart-complete:disabled:hover {\n",
              "    background-color: var(--disabled-bg-color);\n",
              "    fill: var(--disabled-fill-color);\n",
              "    box-shadow: none;\n",
              "  }\n",
              "\n",
              "  .colab-df-spinner {\n",
              "    border: 2px solid var(--fill-color);\n",
              "    border-color: transparent;\n",
              "    border-bottom-color: var(--fill-color);\n",
              "    animation:\n",
              "      spin 1s steps(1) infinite;\n",
              "  }\n",
              "\n",
              "  @keyframes spin {\n",
              "    0% {\n",
              "      border-color: transparent;\n",
              "      border-bottom-color: var(--fill-color);\n",
              "      border-left-color: var(--fill-color);\n",
              "    }\n",
              "    20% {\n",
              "      border-color: transparent;\n",
              "      border-left-color: var(--fill-color);\n",
              "      border-top-color: var(--fill-color);\n",
              "    }\n",
              "    30% {\n",
              "      border-color: transparent;\n",
              "      border-left-color: var(--fill-color);\n",
              "      border-top-color: var(--fill-color);\n",
              "      border-right-color: var(--fill-color);\n",
              "    }\n",
              "    40% {\n",
              "      border-color: transparent;\n",
              "      border-right-color: var(--fill-color);\n",
              "      border-top-color: var(--fill-color);\n",
              "    }\n",
              "    60% {\n",
              "      border-color: transparent;\n",
              "      border-right-color: var(--fill-color);\n",
              "    }\n",
              "    80% {\n",
              "      border-color: transparent;\n",
              "      border-right-color: var(--fill-color);\n",
              "      border-bottom-color: var(--fill-color);\n",
              "    }\n",
              "    90% {\n",
              "      border-color: transparent;\n",
              "      border-bottom-color: var(--fill-color);\n",
              "    }\n",
              "  }\n",
              "</style>\n",
              "\n",
              "  <script>\n",
              "    async function quickchart(key) {\n",
              "      const quickchartButtonEl =\n",
              "        document.querySelector('#' + key + ' button');\n",
              "      quickchartButtonEl.disabled = true;  // To prevent multiple clicks.\n",
              "      quickchartButtonEl.classList.add('colab-df-spinner');\n",
              "      try {\n",
              "        const charts = await google.colab.kernel.invokeFunction(\n",
              "            'suggestCharts', [key], {});\n",
              "      } catch (error) {\n",
              "        console.error('Error during call to suggestCharts:', error);\n",
              "      }\n",
              "      quickchartButtonEl.classList.remove('colab-df-spinner');\n",
              "      quickchartButtonEl.classList.add('colab-df-quickchart-complete');\n",
              "    }\n",
              "    (() => {\n",
              "      let quickchartButtonEl =\n",
              "        document.querySelector('#df-281ed5ae-1f5e-4c33-8759-4a18ad257d3a button');\n",
              "      quickchartButtonEl.style.display =\n",
              "        google.colab.kernel.accessAllowed ? 'block' : 'none';\n",
              "    })();\n",
              "  </script>\n",
              "</div>\n",
              "\n",
              "  <div id=\"id_4499260e-10f3-4008-a8a0-d555eff51e3d\">\n",
              "    <style>\n",
              "      .colab-df-generate {\n",
              "        background-color: #E8F0FE;\n",
              "        border: none;\n",
              "        border-radius: 50%;\n",
              "        cursor: pointer;\n",
              "        display: none;\n",
              "        fill: #1967D2;\n",
              "        height: 32px;\n",
              "        padding: 0 0 0 0;\n",
              "        width: 32px;\n",
              "      }\n",
              "\n",
              "      .colab-df-generate:hover {\n",
              "        background-color: #E2EBFA;\n",
              "        box-shadow: 0px 1px 2px rgba(60, 64, 67, 0.3), 0px 1px 3px 1px rgba(60, 64, 67, 0.15);\n",
              "        fill: #174EA6;\n",
              "      }\n",
              "\n",
              "      [theme=dark] .colab-df-generate {\n",
              "        background-color: #3B4455;\n",
              "        fill: #D2E3FC;\n",
              "      }\n",
              "\n",
              "      [theme=dark] .colab-df-generate:hover {\n",
              "        background-color: #434B5C;\n",
              "        box-shadow: 0px 1px 3px 1px rgba(0, 0, 0, 0.15);\n",
              "        filter: drop-shadow(0px 1px 2px rgba(0, 0, 0, 0.3));\n",
              "        fill: #FFFFFF;\n",
              "      }\n",
              "    </style>\n",
              "    <button class=\"colab-df-generate\" onclick=\"generateWithVariable('X')\"\n",
              "            title=\"Generate code using this dataframe.\"\n",
              "            style=\"display:none;\">\n",
              "\n",
              "  <svg xmlns=\"http://www.w3.org/2000/svg\" height=\"24px\"viewBox=\"0 0 24 24\"\n",
              "       width=\"24px\">\n",
              "    <path d=\"M7,19H8.4L18.45,9,17,7.55,7,17.6ZM5,21V16.75L18.45,3.32a2,2,0,0,1,2.83,0l1.4,1.43a1.91,1.91,0,0,1,.58,1.4,1.91,1.91,0,0,1-.58,1.4L9.25,21ZM18.45,9,17,7.55Zm-12,3A5.31,5.31,0,0,0,4.9,8.1,5.31,5.31,0,0,0,1,6.5,5.31,5.31,0,0,0,4.9,4.9,5.31,5.31,0,0,0,6.5,1,5.31,5.31,0,0,0,8.1,4.9,5.31,5.31,0,0,0,12,6.5,5.46,5.46,0,0,0,6.5,12Z\"/>\n",
              "  </svg>\n",
              "    </button>\n",
              "    <script>\n",
              "      (() => {\n",
              "      const buttonEl =\n",
              "        document.querySelector('#id_4499260e-10f3-4008-a8a0-d555eff51e3d button.colab-df-generate');\n",
              "      buttonEl.style.display =\n",
              "        google.colab.kernel.accessAllowed ? 'block' : 'none';\n",
              "\n",
              "      buttonEl.onclick = () => {\n",
              "        google.colab.notebook.generateWithVariable('X');\n",
              "      }\n",
              "      })();\n",
              "    </script>\n",
              "  </div>\n",
              "\n",
              "    </div>\n",
              "  </div>\n"
            ],
            "application/vnd.google.colaboratory.intrinsic+json": {
              "type": "dataframe",
              "variable_name": "X",
              "summary": "{\n  \"name\": \"X\",\n  \"rows\": 563,\n  \"fields\": [\n    {\n      \"column\": \"diabetes\",\n      \"properties\": {\n        \"dtype\": \"number\",\n        \"std\": 0,\n        \"min\": 0,\n        \"max\": 1,\n        \"num_unique_values\": 2,\n        \"samples\": [\n          1,\n          0\n        ],\n        \"semantic_type\": \"\",\n        \"description\": \"\"\n      }\n    },\n    {\n      \"column\": \"PSA_ref\",\n      \"properties\": {\n        \"dtype\": \"number\",\n        \"std\": 0,\n        \"min\": 0,\n        \"max\": 1,\n        \"num_unique_values\": 2,\n        \"samples\": [\n          0,\n          1\n        ],\n        \"semantic_type\": \"\",\n        \"description\": \"\"\n      }\n    },\n    {\n      \"column\": \"vol_prostatico_ref\",\n      \"properties\": {\n        \"dtype\": \"number\",\n        \"std\": 0,\n        \"min\": 0,\n        \"max\": 1,\n        \"num_unique_values\": 2,\n        \"samples\": [\n          0,\n          1\n        ],\n        \"semantic_type\": \"\",\n        \"description\": \"\"\n      }\n    },\n    {\n      \"column\": \"Enf_pulmonar_ref\",\n      \"properties\": {\n        \"dtype\": \"number\",\n        \"std\": 0,\n        \"min\": 0,\n        \"max\": 1,\n        \"num_unique_values\": 2,\n        \"samples\": [\n          0,\n          1\n        ],\n        \"semantic_type\": \"\",\n        \"description\": \"\"\n      }\n    },\n    {\n      \"column\": \"infecc_tract_urinario\",\n      \"properties\": {\n        \"dtype\": \"number\",\n        \"std\": 0,\n        \"min\": 0,\n        \"max\": 1,\n        \"num_unique_values\": 2,\n        \"samples\": [\n          1,\n          0\n        ],\n        \"semantic_type\": \"\",\n        \"description\": \"\"\n      }\n    },\n    {\n      \"column\": \"BIOPSIA_CARCINOMA INDIFERENCIADO DE CELULAS CLARAS\",\n      \"properties\": {\n        \"dtype\": \"number\",\n        \"std\": 0,\n        \"min\": 0,\n        \"max\": 1,\n        \"num_unique_values\": 2,\n        \"samples\": [\n          1,\n          0\n        ],\n        \"semantic_type\": \"\",\n        \"description\": \"\"\n      }\n    }\n  ]\n}"
            }
          },
          "metadata": {},
          "execution_count": 162
        }
      ]
    },
    {
      "cell_type": "code",
      "source": [
        "print(data.value_counts(data['HOSPITALIZACION'], sort = True))"
      ],
      "metadata": {
        "colab": {
          "base_uri": "https://localhost:8080/"
        },
        "id": "0vzYnRzKmHE5",
        "outputId": "e1eb1dc2-faa3-4b62-f257-6b6e103ef834"
      },
      "execution_count": 163,
      "outputs": [
        {
          "output_type": "stream",
          "name": "stdout",
          "text": [
            "HOSPITALIZACION\n",
            "0    539\n",
            "1     24\n",
            "Name: count, dtype: int64\n"
          ]
        }
      ]
    },
    {
      "cell_type": "code",
      "source": [
        "count_HOSPITALIZACION = pd.value_counts(data['HOSPITALIZACION'], sort = True)\n",
        "count_HOSPITALIZACION.plot(kind = 'bar', rot=0, color='red')\n",
        "plt.xticks(range(2))\n",
        "plt.title(\"Frecuencia para las etiquetas 0 y 1\")\n",
        "plt.xlabel(\"HOSPITALIZACION\")\n",
        "plt.ylabel(\"Número de observaciones\");"
      ],
      "metadata": {
        "colab": {
          "base_uri": "https://localhost:8080/",
          "height": 472
        },
        "id": "STDUilwJmWLJ",
        "outputId": "a16927d5-60f7-4376-d148-378d876cdf71"
      },
      "execution_count": 164,
      "outputs": [
        {
          "output_type": "display_data",
          "data": {
            "text/plain": [
              "<Figure size 640x480 with 1 Axes>"
            ],
            "image/png": "[encoded data removed]"
          },
          "metadata": {}
        }
      ]
    },
    {
      "cell_type": "markdown",
      "source": [
        "Observamos que hay un desblance en la cantidad de datos para cada etiqueta. Este resultado tendrá un impacto directo en el modelo que ajuste a la variable a predecir, se aconseja no utilizar la métrica accuracy ya que en este caso no es un buen indicador de precisión (accuracy se obtiene dividiendo el numero total de predicciones correctas dividido por el número total de predicciones)"
      ],
      "metadata": {
        "id": "j8GdvnTJmpPa"
      }
    },
    {
      "cell_type": "markdown",
      "source": [
        "Separen el dataset en X_train, X_test, y_train y y_test"
      ],
      "metadata": {
        "id": "mTV2RdmbMoRE"
      }
    },
    {
      "cell_type": "code",
      "source": [
        "x_train0, x_test0, y_train,y_test = train_test_split(X, y, test_size=0.2, random_state=22)"
      ],
      "metadata": {
        "id": "ILzt6oOaM1ag"
      },
      "execution_count": 165,
      "outputs": []
    },
    {
      "cell_type": "markdown",
      "source": [
        "Escalamos el conjunto de datos para asegurarnos de trabajar con las mismas unidades"
      ],
      "metadata": {
        "id": "WxQhU5uenl8u"
      }
    },
    {
      "cell_type": "code",
      "source": [
        "scaler = StandardScaler()\n",
        "scaler.fit(x_train0)  # Conjunto de entrenamiento\n",
        "x_train = scaler.transform(x_train0)\n",
        "x_test = scaler.transform(x_test0)  # Conjunto de evaluación"
      ],
      "metadata": {
        "id": "t4IjENIhngAe"
      },
      "execution_count": 166,
      "outputs": []
    },
    {
      "cell_type": "markdown",
      "source": [
        "Instancien, entrenen y predigan sobre un árbol de decisión asignando una profundidad máxima arbitraria"
      ],
      "metadata": {
        "id": "zyQIaY1bM12g"
      }
    },
    {
      "cell_type": "code",
      "source": [
        "DecisionTreeClassifier().get_params() # param por defecto"
      ],
      "metadata": {
        "colab": {
          "base_uri": "https://localhost:8080/"
        },
        "id": "ix8FA5IWpZFs",
        "outputId": "5c62d84f-7aa3-4095-ce9a-fee322ec435e"
      },
      "execution_count": 167,
      "outputs": [
        {
          "output_type": "execute_result",
          "data": {
            "text/plain": [
              "{'ccp_alpha': 0.0,\n",
              " 'class_weight': None,\n",
              " 'criterion': 'gini',\n",
              " 'max_depth': None,\n",
              " 'max_features': None,\n",
              " 'max_leaf_nodes': None,\n",
              " 'min_impurity_decrease': 0.0,\n",
              " 'min_samples_leaf': 1,\n",
              " 'min_samples_split': 2,\n",
              " 'min_weight_fraction_leaf': 0.0,\n",
              " 'random_state': None,\n",
              " 'splitter': 'best'}"
            ]
          },
          "metadata": {},
          "execution_count": 167
        }
      ]
    },
    {
      "cell_type": "code",
      "source": [
        "clasift = DecisionTreeClassifier(random_state=22)\n",
        "clasift.fit(x_train, y_train)"
      ],
      "metadata": {
        "id": "HO3Db1YQM9JS",
        "colab": {
          "base_uri": "https://localhost:8080/",
          "height": 75
        },
        "outputId": "e813124b-4fc8-4fea-d570-1b21408b25cd"
      },
      "execution_count": 168,
      "outputs": [
        {
          "output_type": "execute_result",
          "data": {
            "text/plain": [
              "DecisionTreeClassifier(random_state=22)"
            ],
            "text/html": [
              "<style>#sk-container-id-12 {color: black;background-color: white;}#sk-container-id-12 pre{padding: 0;}#sk-container-id-12 div.sk-toggleable {background-color: white;}#sk-container-id-12 label.sk-toggleable__label {cursor: pointer;display: block;width: 100%;margin-bottom: 0;padding: 0.3em;box-sizing: border-box;text-align: center;}#sk-container-id-12 label.sk-toggleable__label-arrow:before {content: \"▸\";float: left;margin-right: 0.25em;color: #696969;}#sk-container-id-12 label.sk-toggleable__label-arrow:hover:before {color: black;}#sk-container-id-12 div.sk-estimator:hover label.sk-toggleable__label-arrow:before {color: black;}#sk-container-id-12 div.sk-toggleable__content {max-height: 0;max-width: 0;overflow: hidden;text-align: left;background-color: #f0f8ff;}#sk-container-id-12 div.sk-toggleable__content pre {margin: 0.2em;color: black;border-radius: 0.25em;background-color: #f0f8ff;}#sk-container-id-12 input.sk-toggleable__control:checked~div.sk-toggleable__content {max-height: 200px;max-width: 100%;overflow: auto;}#sk-container-id-12 input.sk-toggleable__control:checked~label.sk-toggleable__label-arrow:before {content: \"▾\";}#sk-container-id-12 div.sk-estimator input.sk-toggleable__control:checked~label.sk-toggleable__label {background-color: #d4ebff;}#sk-container-id-12 div.sk-label input.sk-toggleable__control:checked~label.sk-toggleable__label {background-color: #d4ebff;}#sk-container-id-12 input.sk-hidden--visually {border: 0;clip: rect(1px 1px 1px 1px);clip: rect(1px, 1px, 1px, 1px);height: 1px;margin: -1px;overflow: hidden;padding: 0;position: absolute;width: 1px;}#sk-container-id-12 div.sk-estimator {font-family: monospace;background-color: #f0f8ff;border: 1px dotted black;border-radius: 0.25em;box-sizing: border-box;margin-bottom: 0.5em;}#sk-container-id-12 div.sk-estimator:hover {background-color: #d4ebff;}#sk-container-id-12 div.sk-parallel-item::after {content: \"\";width: 100%;border-bottom: 1px solid gray;flex-grow: 1;}#sk-container-id-12 div.sk-label:hover label.sk-toggleable__label {background-color: #d4ebff;}#sk-container-id-12 div.sk-serial::before {content: \"\";position: absolute;border-left: 1px solid gray;box-sizing: border-box;top: 0;bottom: 0;left: 50%;z-index: 0;}#sk-container-id-12 div.sk-serial {display: flex;flex-direction: column;align-items: center;background-color: white;padding-right: 0.2em;padding-left: 0.2em;position: relative;}#sk-container-id-12 div.sk-item {position: relative;z-index: 1;}#sk-container-id-12 div.sk-parallel {display: flex;align-items: stretch;justify-content: center;background-color: white;position: relative;}#sk-container-id-12 div.sk-item::before, #sk-container-id-12 div.sk-parallel-item::before {content: \"\";position: absolute;border-left: 1px solid gray;box-sizing: border-box;top: 0;bottom: 0;left: 50%;z-index: -1;}#sk-container-id-12 div.sk-parallel-item {display: flex;flex-direction: column;z-index: 1;position: relative;background-color: white;}#sk-container-id-12 div.sk-parallel-item:first-child::after {align-self: flex-end;width: 50%;}#sk-container-id-12 div.sk-parallel-item:last-child::after {align-self: flex-start;width: 50%;}#sk-container-id-12 div.sk-parallel-item:only-child::after {width: 0;}#sk-container-id-12 div.sk-dashed-wrapped {border: 1px dashed gray;margin: 0 0.4em 0.5em 0.4em;box-sizing: border-box;padding-bottom: 0.4em;background-color: white;}#sk-container-id-12 div.sk-label label {font-family: monospace;font-weight: bold;display: inline-block;line-height: 1.2em;}#sk-container-id-12 div.sk-label-container {text-align: center;}#sk-container-id-12 div.sk-container {/* jupyter's `normalize.less` sets `[hidden] { display: none; }` but bootstrap.min.css set `[hidden] { display: none !important; }` so we also need the `!important` here to be able to override the default hidden behavior on the sphinx rendered scikit-learn.org. See: https://github.com/scikit-learn/scikit-learn/issues/21755 */display: inline-block !important;position: relative;}#sk-container-id-12 div.sk-text-repr-fallback {display: none;}</style><div id=\"sk-container-id-12\" class=\"sk-top-container\"><div class=\"sk-text-repr-fallback\"><pre>DecisionTreeClassifier(random_state=22)</pre><b>In a Jupyter environment, please rerun this cell to show the HTML representation or trust the notebook. <br />On GitHub, the HTML representation is unable to render, please try loading this page with nbviewer.org.</b></div><div class=\"sk-container\" hidden><div class=\"sk-item\"><div class=\"sk-estimator sk-toggleable\"><input class=\"sk-toggleable__control sk-hidden--visually\" id=\"sk-estimator-id-12\" type=\"checkbox\" checked><label for=\"sk-estimator-id-12\" class=\"sk-toggleable__label sk-toggleable__label-arrow\">DecisionTreeClassifier</label><div class=\"sk-toggleable__content\"><pre>DecisionTreeClassifier(random_state=22)</pre></div></div></div></div></div>"
            ]
          },
          "metadata": {},
          "execution_count": 168
        }
      ]
    },
    {
      "cell_type": "code",
      "source": [
        "#Predecimos valores \"y\" del conjunto de entrenamiento y del conjunto de evaluación\n",
        "y_train_predt = clasift.predict(x_train)\n",
        "y_test_predt = clasift.predict(x_test)"
      ],
      "metadata": {
        "id": "YGThh2b2qltS"
      },
      "execution_count": 169,
      "outputs": []
    },
    {
      "cell_type": "markdown",
      "source": [
        "Realicen la matriz de confusión para este modelo. Se recomienda utilizar mapa de calor para la visualización."
      ],
      "metadata": {
        "id": "HAZhxOMyNFON"
      }
    },
    {
      "cell_type": "code",
      "source": [
        "from sklearn.metrics import confusion_matrix\n",
        "\n",
        "matrix = confusion_matrix(y_train, y_train_predt)\n",
        "matrix_2 = confusion_matrix(y_test, y_test_predt)"
      ],
      "metadata": {
        "id": "_GpXEa1oNQfG"
      },
      "execution_count": 170,
      "outputs": []
    },
    {
      "cell_type": "code",
      "source": [
        "from sklearn.metrics import ConfusionMatrixDisplay\n",
        "\n",
        "cm_display = ConfusionMatrixDisplay(matrix)\n",
        "cm_display_2 = ConfusionMatrixDisplay(matrix_2) #conjunto de evaluación"
      ],
      "metadata": {
        "id": "S12vnv-urO7i"
      },
      "execution_count": 171,
      "outputs": []
    },
    {
      "cell_type": "code",
      "source": [
        "cmap = plt.cm.cool\n",
        "fig, ax = plt.subplots(figsize=(4,5))\n",
        "\n",
        "ax.matshow(matrix, cmap=cmap)\n",
        "for (i, j), z in np.ndenumerate(matrix):\n",
        "    ax.text(j, i, '{:0.1f}'.format(z), ha='center', va='center')\n",
        "ax.set_xlabel('Etiqueta Predicha')\n",
        "ax.set_ylabel('Etiqueta Verdadera')\n",
        "ax.set_title('Matriz de Confusión - Conjunto de Entrenamiento')\n",
        "plt.show()"
      ],
      "metadata": {
        "colab": {
          "base_uri": "https://localhost:8080/",
          "height": 417
        },
        "id": "HaSXrGTVrVO6",
        "outputId": "a666a1f8-22ff-423c-cb69-d702cd84f50e"
      },
      "execution_count": 172,
      "outputs": [
        {
          "output_type": "display_data",
          "data": {
            "text/plain": [
              "<Figure size 400x500 with 1 Axes>"
            ],
            "image/png": "[encoded data removed]"
          },
          "metadata": {}
        }
      ]
    },
    {
      "cell_type": "code",
      "source": [
        "fig, ax = plt.subplots(figsize=(4,5))\n",
        "\n",
        "ax.matshow(matrix, cmap=cmap)\n",
        "for (i, j), z in np.ndenumerate(matrix_2):\n",
        "    ax.text(j, i, '{:0.1f}'.format(z), ha='center', va='center')\n",
        "ax.set_xlabel('Etiqueta Predicha')\n",
        "ax.set_ylabel('Etiqueta Verdadera')\n",
        "ax.set_title('Matriz de Confusión - Conjunto de Evaluación')\n",
        "plt.show()"
      ],
      "metadata": {
        "colab": {
          "base_uri": "https://localhost:8080/",
          "height": 417
        },
        "id": "gDk2a0mwrmLV",
        "outputId": "8dec25f9-fdbf-4bad-9ebe-61f2ed52c32e"
      },
      "execution_count": 173,
      "outputs": [
        {
          "output_type": "display_data",
          "data": {
            "text/plain": [
              "<Figure size 400x500 with 1 Axes>"
            ],
            "image/png": "[encoded data removed]"
          },
          "metadata": {}
        }
      ]
    },
    {
      "cell_type": "markdown",
      "source": [
        "Seleccione tres métricas de evaluación para este modelo de clasificación y describa el significado de cada una de ellas para el modelo creado."
      ],
      "metadata": {
        "id": "CmRUpq9FMcsi"
      }
    },
    {
      "cell_type": "code",
      "source": [
        "train_acc = accuracy_score(y_train, y_train_predt)\n",
        "test_acc = accuracy_score(y_test, y_test_predt)\n",
        "print(f'Train accuracy: {train_acc:0.3}')\n",
        "print(f'Test accuracy: {test_acc:0.3}')"
      ],
      "metadata": {
        "colab": {
          "base_uri": "https://localhost:8080/"
        },
        "id": "XrV_rNhCxqJu",
        "outputId": "40f178a8-9008-4b81-d329-7784f3a523a4"
      },
      "execution_count": 174,
      "outputs": [
        {
          "output_type": "stream",
          "name": "stdout",
          "text": [
            "Train accuracy: 0.967\n",
            "Test accuracy: 0.973\n"
          ]
        }
      ]
    },
    {
      "cell_type": "code",
      "source": [
        "#Evaluamos sobre el conjunto de entrenamiento y sobre el conjunto de evaluación,\n",
        "# reportando las métricas\n",
        "print(\"Train dataset accuracy: %0.03f\" % clasift.score(x_train,y_train))\n",
        "print(\"****Reporte de clasificación sobre conjunto de entrenamiento*****\")\n",
        "print(classification_report(y_train, y_train_predt))"
      ],
      "metadata": {
        "id": "xSSe-ZHpMmdz",
        "colab": {
          "base_uri": "https://localhost:8080/"
        },
        "outputId": "b8073a85-3c82-42ba-fe10-916586826840"
      },
      "execution_count": 175,
      "outputs": [
        {
          "output_type": "stream",
          "name": "stdout",
          "text": [
            "Train dataset accuracy: 0.967\n",
            "****Reporte de clasificación sobre conjunto de entrenamiento*****\n",
            "              precision    recall  f1-score   support\n",
            "\n",
            "           0       0.97      1.00      0.98       430\n",
            "           1       1.00      0.25      0.40        20\n",
            "\n",
            "    accuracy                           0.97       450\n",
            "   macro avg       0.98      0.62      0.69       450\n",
            "weighted avg       0.97      0.97      0.96       450\n",
            "\n"
          ]
        }
      ]
    },
    {
      "cell_type": "code",
      "source": [
        "print(\"Train dataset accuracy: %0.03f\" % clasift.score(x_test,y_test))\n",
        "print(\"****Reporte de clasificación sobre conjunto de evaluación*****\")\n",
        "print(classification_report(y_test, y_test_predt))"
      ],
      "metadata": {
        "colab": {
          "base_uri": "https://localhost:8080/"
        },
        "id": "992XPsYUr8Jg",
        "outputId": "d56b8d86-c9e3-45a2-d2e0-d8ef61ca461b"
      },
      "execution_count": 176,
      "outputs": [
        {
          "output_type": "stream",
          "name": "stdout",
          "text": [
            "Train dataset accuracy: 0.973\n",
            "****Reporte de clasificación sobre conjunto de evaluación*****\n",
            "              precision    recall  f1-score   support\n",
            "\n",
            "           0       0.97      1.00      0.99       109\n",
            "           1       1.00      0.25      0.40         4\n",
            "\n",
            "    accuracy                           0.97       113\n",
            "   macro avg       0.99      0.62      0.69       113\n",
            "weighted avg       0.97      0.97      0.97       113\n",
            "\n"
          ]
        }
      ]
    },
    {
      "cell_type": "markdown",
      "source": [
        "Realice un diagrama de la importancia de cada variable respecto a la clasificación de la variable objetivo"
      ],
      "metadata": {
        "id": "b_u-bC8FNTkT"
      }
    },
    {
      "cell_type": "markdown",
      "source": [
        "Encuentre cuál sería un valor óptimo para el hiperparámetro **max_depth** para el árbol de decisión. Construya un modelo con este valor y compare las métricas de evaluación respecto al modelo creado con una profundidad arbitraria."
      ],
      "metadata": {
        "id": "E3k9TEhuSU9i"
      }
    },
    {
      "cell_type": "code",
      "source": [
        "for n, criterion in enumerate(('gini','entropy')):\n",
        "    param_grid2 = {\n",
        "     'max_depth': [1,2,3,4,5,6],  # Profundidad máxima del árbol\n",
        "        'min_samples_leaf': [1,2],  # Cantidad mínima de samples por hoja\n",
        "    }\n",
        "    modelt = DecisionTreeClassifier(random_state=22,criterion=criterion)\n",
        "    cvt = GridSearchCV(modelt, param_grid2, scoring='accuracy',cv=5)\n",
        "    cvt.fit(x_train, y_train)\n",
        "\n",
        "    print(\"******************************************************************\")\n",
        "    print(\"*********Hiperparámetros para criterio de partición\",criterion,\"*********\")\n",
        "    print(\"Mejor conjunto de parámetros:\")\n",
        "    print(cvt.best_params_)\n",
        "    print(\"Best accuracy: %0.03f\" % cvt.score(x_train,y_train))\n",
        "\n",
        "    y_train_predtt = cvt.predict(x_train)\n",
        "    print(\"****Reporte de clasificación sobre conjunto de entrenamiento (métricas)*****\")\n",
        "    print(classification_report(y_train, y_train_predtt))\n",
        "\n",
        "    meant = cvt.cv_results_['mean_test_score']\n",
        "    stdt = cvt.cv_results_['std_test_score']\n",
        "    for mean, std, params in zip(meant, stdt, cvt.cv_results_['params']):\n",
        "        print(\"Ac.promedio: %0.4f y var (+/-%0.04f) para los parámetros %r\" % (mean, std ** 2, params))"
      ],
      "metadata": {
        "id": "CUdKvPY0S1SC",
        "colab": {
          "base_uri": "https://localhost:8080/"
        },
        "outputId": "fb9adf95-56ed-4efd-b3f2-9642b357c414"
      },
      "execution_count": 177,
      "outputs": [
        {
          "output_type": "stream",
          "name": "stdout",
          "text": [
            "******************************************************************\n",
            "*********Hiperparámetros para criterio de partición gini *********\n",
            "Mejor conjunto de parámetros:\n",
            "{'max_depth': 1, 'min_samples_leaf': 1}\n",
            "Best accuracy: 0.967\n",
            "****Reporte de clasificación sobre conjunto de entrenamiento (métricas)*****\n",
            "              precision    recall  f1-score   support\n",
            "\n",
            "           0       0.97      1.00      0.98       430\n",
            "           1       1.00      0.25      0.40        20\n",
            "\n",
            "    accuracy                           0.97       450\n",
            "   macro avg       0.98      0.62      0.69       450\n",
            "weighted avg       0.97      0.97      0.96       450\n",
            "\n",
            "Ac.promedio: 0.9667 y var (+/-0.0000) para los parámetros {'max_depth': 1, 'min_samples_leaf': 1}\n",
            "Ac.promedio: 0.9667 y var (+/-0.0000) para los parámetros {'max_depth': 1, 'min_samples_leaf': 2}\n",
            "Ac.promedio: 0.9667 y var (+/-0.0000) para los parámetros {'max_depth': 2, 'min_samples_leaf': 1}\n",
            "Ac.promedio: 0.9667 y var (+/-0.0000) para los parámetros {'max_depth': 2, 'min_samples_leaf': 2}\n",
            "Ac.promedio: 0.9667 y var (+/-0.0000) para los parámetros {'max_depth': 3, 'min_samples_leaf': 1}\n",
            "Ac.promedio: 0.9667 y var (+/-0.0000) para los parámetros {'max_depth': 3, 'min_samples_leaf': 2}\n",
            "Ac.promedio: 0.9667 y var (+/-0.0000) para los parámetros {'max_depth': 4, 'min_samples_leaf': 1}\n",
            "Ac.promedio: 0.9667 y var (+/-0.0000) para los parámetros {'max_depth': 4, 'min_samples_leaf': 2}\n",
            "Ac.promedio: 0.9667 y var (+/-0.0000) para los parámetros {'max_depth': 5, 'min_samples_leaf': 1}\n",
            "Ac.promedio: 0.9667 y var (+/-0.0000) para los parámetros {'max_depth': 5, 'min_samples_leaf': 2}\n",
            "Ac.promedio: 0.9667 y var (+/-0.0000) para los parámetros {'max_depth': 6, 'min_samples_leaf': 1}\n",
            "Ac.promedio: 0.9667 y var (+/-0.0000) para los parámetros {'max_depth': 6, 'min_samples_leaf': 2}\n",
            "******************************************************************\n",
            "*********Hiperparámetros para criterio de partición entropy *********\n",
            "Mejor conjunto de parámetros:\n",
            "{'max_depth': 1, 'min_samples_leaf': 1}\n",
            "Best accuracy: 0.967\n",
            "****Reporte de clasificación sobre conjunto de entrenamiento (métricas)*****\n",
            "              precision    recall  f1-score   support\n",
            "\n",
            "           0       0.97      1.00      0.98       430\n",
            "           1       1.00      0.25      0.40        20\n",
            "\n",
            "    accuracy                           0.97       450\n",
            "   macro avg       0.98      0.62      0.69       450\n",
            "weighted avg       0.97      0.97      0.96       450\n",
            "\n",
            "Ac.promedio: 0.9667 y var (+/-0.0000) para los parámetros {'max_depth': 1, 'min_samples_leaf': 1}\n",
            "Ac.promedio: 0.9667 y var (+/-0.0000) para los parámetros {'max_depth': 1, 'min_samples_leaf': 2}\n",
            "Ac.promedio: 0.9667 y var (+/-0.0000) para los parámetros {'max_depth': 2, 'min_samples_leaf': 1}\n",
            "Ac.promedio: 0.9667 y var (+/-0.0000) para los parámetros {'max_depth': 2, 'min_samples_leaf': 2}\n",
            "Ac.promedio: 0.9667 y var (+/-0.0000) para los parámetros {'max_depth': 3, 'min_samples_leaf': 1}\n",
            "Ac.promedio: 0.9667 y var (+/-0.0000) para los parámetros {'max_depth': 3, 'min_samples_leaf': 2}\n",
            "Ac.promedio: 0.9667 y var (+/-0.0000) para los parámetros {'max_depth': 4, 'min_samples_leaf': 1}\n",
            "Ac.promedio: 0.9667 y var (+/-0.0000) para los parámetros {'max_depth': 4, 'min_samples_leaf': 2}\n",
            "Ac.promedio: 0.9667 y var (+/-0.0000) para los parámetros {'max_depth': 5, 'min_samples_leaf': 1}\n",
            "Ac.promedio: 0.9667 y var (+/-0.0000) para los parámetros {'max_depth': 5, 'min_samples_leaf': 2}\n",
            "Ac.promedio: 0.9667 y var (+/-0.0000) para los parámetros {'max_depth': 6, 'min_samples_leaf': 1}\n",
            "Ac.promedio: 0.9667 y var (+/-0.0000) para los parámetros {'max_depth': 6, 'min_samples_leaf': 2}\n"
          ]
        }
      ]
    },
    {
      "cell_type": "markdown",
      "source": [
        "Instancien, entrenen y predigan sobre un modelo de k-vecinos asignando una cantidad de vecinos k-aribitraria."
      ],
      "metadata": {
        "id": "EiqnqbBuNmmW"
      }
    },
    {
      "cell_type": "code",
      "source": [
        "KNeighborsClassifier().get_params() # param por defecto"
      ],
      "metadata": {
        "colab": {
          "base_uri": "https://localhost:8080/"
        },
        "id": "wVciZlFKszis",
        "outputId": "2dd59abf-7116-46ce-b594-419e86ce5747"
      },
      "execution_count": 178,
      "outputs": [
        {
          "output_type": "execute_result",
          "data": {
            "text/plain": [
              "{'algorithm': 'auto',\n",
              " 'leaf_size': 30,\n",
              " 'metric': 'minkowski',\n",
              " 'metric_params': None,\n",
              " 'n_jobs': None,\n",
              " 'n_neighbors': 5,\n",
              " 'p': 2,\n",
              " 'weights': 'uniform'}"
            ]
          },
          "metadata": {},
          "execution_count": 178
        }
      ]
    },
    {
      "cell_type": "code",
      "source": [
        "from sklearn.neighbors import KNeighborsClassifier\n",
        "clf = KNeighborsClassifier(n_neighbors=13)"
      ],
      "metadata": {
        "id": "ojbd5ZoXyOB5"
      },
      "execution_count": 179,
      "outputs": []
    },
    {
      "cell_type": "code",
      "source": [
        "clf.fit(x_train, y_train)"
      ],
      "metadata": {
        "colab": {
          "base_uri": "https://localhost:8080/",
          "height": 75
        },
        "id": "8hyzect5qaAv",
        "outputId": "a492c546-a909-473b-c543-39e654b2ad52"
      },
      "execution_count": 180,
      "outputs": [
        {
          "output_type": "execute_result",
          "data": {
            "text/plain": [
              "KNeighborsClassifier(n_neighbors=13)"
            ],
            "text/html": [
              "<style>#sk-container-id-13 {color: black;background-color: white;}#sk-container-id-13 pre{padding: 0;}#sk-container-id-13 div.sk-toggleable {background-color: white;}#sk-container-id-13 label.sk-toggleable__label {cursor: pointer;display: block;width: 100%;margin-bottom: 0;padding: 0.3em;box-sizing: border-box;text-align: center;}#sk-container-id-13 label.sk-toggleable__label-arrow:before {content: \"▸\";float: left;margin-right: 0.25em;color: #696969;}#sk-container-id-13 label.sk-toggleable__label-arrow:hover:before {color: black;}#sk-container-id-13 div.sk-estimator:hover label.sk-toggleable__label-arrow:before {color: black;}#sk-container-id-13 div.sk-toggleable__content {max-height: 0;max-width: 0;overflow: hidden;text-align: left;background-color: #f0f8ff;}#sk-container-id-13 div.sk-toggleable__content pre {margin: 0.2em;color: black;border-radius: 0.25em;background-color: #f0f8ff;}#sk-container-id-13 input.sk-toggleable__control:checked~div.sk-toggleable__content {max-height: 200px;max-width: 100%;overflow: auto;}#sk-container-id-13 input.sk-toggleable__control:checked~label.sk-toggleable__label-arrow:before {content: \"▾\";}#sk-container-id-13 div.sk-estimator input.sk-toggleable__control:checked~label.sk-toggleable__label {background-color: #d4ebff;}#sk-container-id-13 div.sk-label input.sk-toggleable__control:checked~label.sk-toggleable__label {background-color: #d4ebff;}#sk-container-id-13 input.sk-hidden--visually {border: 0;clip: rect(1px 1px 1px 1px);clip: rect(1px, 1px, 1px, 1px);height: 1px;margin: -1px;overflow: hidden;padding: 0;position: absolute;width: 1px;}#sk-container-id-13 div.sk-estimator {font-family: monospace;background-color: #f0f8ff;border: 1px dotted black;border-radius: 0.25em;box-sizing: border-box;margin-bottom: 0.5em;}#sk-container-id-13 div.sk-estimator:hover {background-color: #d4ebff;}#sk-container-id-13 div.sk-parallel-item::after {content: \"\";width: 100%;border-bottom: 1px solid gray;flex-grow: 1;}#sk-container-id-13 div.sk-label:hover label.sk-toggleable__label {background-color: #d4ebff;}#sk-container-id-13 div.sk-serial::before {content: \"\";position: absolute;border-left: 1px solid gray;box-sizing: border-box;top: 0;bottom: 0;left: 50%;z-index: 0;}#sk-container-id-13 div.sk-serial {display: flex;flex-direction: column;align-items: center;background-color: white;padding-right: 0.2em;padding-left: 0.2em;position: relative;}#sk-container-id-13 div.sk-item {position: relative;z-index: 1;}#sk-container-id-13 div.sk-parallel {display: flex;align-items: stretch;justify-content: center;background-color: white;position: relative;}#sk-container-id-13 div.sk-item::before, #sk-container-id-13 div.sk-parallel-item::before {content: \"\";position: absolute;border-left: 1px solid gray;box-sizing: border-box;top: 0;bottom: 0;left: 50%;z-index: -1;}#sk-container-id-13 div.sk-parallel-item {display: flex;flex-direction: column;z-index: 1;position: relative;background-color: white;}#sk-container-id-13 div.sk-parallel-item:first-child::after {align-self: flex-end;width: 50%;}#sk-container-id-13 div.sk-parallel-item:last-child::after {align-self: flex-start;width: 50%;}#sk-container-id-13 div.sk-parallel-item:only-child::after {width: 0;}#sk-container-id-13 div.sk-dashed-wrapped {border: 1px dashed gray;margin: 0 0.4em 0.5em 0.4em;box-sizing: border-box;padding-bottom: 0.4em;background-color: white;}#sk-container-id-13 div.sk-label label {font-family: monospace;font-weight: bold;display: inline-block;line-height: 1.2em;}#sk-container-id-13 div.sk-label-container {text-align: center;}#sk-container-id-13 div.sk-container {/* jupyter's `normalize.less` sets `[hidden] { display: none; }` but bootstrap.min.css set `[hidden] { display: none !important; }` so we also need the `!important` here to be able to override the default hidden behavior on the sphinx rendered scikit-learn.org. See: https://github.com/scikit-learn/scikit-learn/issues/21755 */display: inline-block !important;position: relative;}#sk-container-id-13 div.sk-text-repr-fallback {display: none;}</style><div id=\"sk-container-id-13\" class=\"sk-top-container\"><div class=\"sk-text-repr-fallback\"><pre>KNeighborsClassifier(n_neighbors=13)</pre><b>In a Jupyter environment, please rerun this cell to show the HTML representation or trust the notebook. <br />On GitHub, the HTML representation is unable to render, please try loading this page with nbviewer.org.</b></div><div class=\"sk-container\" hidden><div class=\"sk-item\"><div class=\"sk-estimator sk-toggleable\"><input class=\"sk-toggleable__control sk-hidden--visually\" id=\"sk-estimator-id-13\" type=\"checkbox\" checked><label for=\"sk-estimator-id-13\" class=\"sk-toggleable__label sk-toggleable__label-arrow\">KNeighborsClassifier</label><div class=\"sk-toggleable__content\"><pre>KNeighborsClassifier(n_neighbors=13)</pre></div></div></div></div></div>"
            ]
          },
          "metadata": {},
          "execution_count": 180
        }
      ]
    },
    {
      "cell_type": "code",
      "source": [
        "y_train_predtk = clasift.predict(x_train)\n",
        "y_test_predtk = clasift.predict(x_test)"
      ],
      "metadata": {
        "id": "N6Kx5xmMqqPN"
      },
      "execution_count": 181,
      "outputs": []
    },
    {
      "cell_type": "code",
      "source": [
        "train_acc = accuracy_score(y_train, y_train_predtk)\n",
        "test_acc = accuracy_score(y_test, y_test_predtk)\n",
        "print(f'Train accuracy: {train_acc:0.3}')\n",
        "print(f'Test accuracy: {test_acc:0.3}')"
      ],
      "metadata": {
        "colab": {
          "base_uri": "https://localhost:8080/"
        },
        "id": "CcA6-7oOq65d",
        "outputId": "be5e2552-7f4a-49b2-92e9-673be78fc96a"
      },
      "execution_count": 182,
      "outputs": [
        {
          "output_type": "stream",
          "name": "stdout",
          "text": [
            "Train accuracy: 0.967\n",
            "Test accuracy: 0.973\n"
          ]
        }
      ]
    },
    {
      "cell_type": "code",
      "source": [
        "print(\"Train dataset accuracy: %0.03f\" % clasift.score(x_test,y_test))\n",
        "print(\"****Reporte de clasificación sobre conjunto de evaluación*****\")\n",
        "print(classification_report(y_test, y_test_predtk))"
      ],
      "metadata": {
        "colab": {
          "base_uri": "https://localhost:8080/"
        },
        "id": "0vSVnaTmx2kp",
        "outputId": "43c7cb4a-976f-477f-ca35-4e4093a8eefe"
      },
      "execution_count": 183,
      "outputs": [
        {
          "output_type": "stream",
          "name": "stdout",
          "text": [
            "Train dataset accuracy: 0.973\n",
            "****Reporte de clasificación sobre conjunto de evaluación*****\n",
            "              precision    recall  f1-score   support\n",
            "\n",
            "           0       0.97      1.00      0.99       109\n",
            "           1       1.00      0.25      0.40         4\n",
            "\n",
            "    accuracy                           0.97       113\n",
            "   macro avg       0.99      0.62      0.69       113\n",
            "weighted avg       0.97      0.97      0.97       113\n",
            "\n"
          ]
        }
      ]
    },
    {
      "cell_type": "code",
      "source": [
        "matrix = confusion_matrix(y_train, y_train_predtk)\n",
        "matrix_2 = confusion_matrix(y_test, y_test_predtk)\n",
        "\n",
        "cm_display = ConfusionMatrixDisplay(matrix)\n",
        "cm_display_2 = ConfusionMatrixDisplay(matrix_2) #conjunto de evaluación\n",
        "\n",
        "cmap = plt.cm.cool\n",
        "fig, ax = plt.subplots(figsize=(4,5))\n",
        "\n",
        "ax.matshow(matrix, cmap=cmap)\n",
        "for (i, j), z in np.ndenumerate(matrix):\n",
        "    ax.text(j, i, '{:0.1f}'.format(z), ha='center', va='center')\n",
        "ax.set_xlabel('Etiqueta Predicha')\n",
        "ax.set_ylabel('Etiqueta Verdadera')\n",
        "ax.set_title('Matriz de Confusión - Conjunto de Entrenamiento')\n",
        "plt.show()\n",
        "\n",
        "fig, ax = plt.subplots(figsize=(4,5))\n",
        "\n",
        "ax.matshow(matrix, cmap=cmap)\n",
        "for (i, j), z in np.ndenumerate(matrix_2):\n",
        "    ax.text(j, i, '{:0.1f}'.format(z), ha='center', va='center')\n",
        "ax.set_xlabel('Etiqueta Predicha')\n",
        "ax.set_ylabel('Etiqueta Verdadera')\n",
        "ax.set_title('Matriz de Confusión - Conjunto de Evaluación')\n",
        "plt.show()"
      ],
      "metadata": {
        "colab": {
          "base_uri": "https://localhost:8080/",
          "height": 817
        },
        "id": "lpDLDccnNzfE",
        "outputId": "25e68304-3423-4efc-d18d-7b2e5ab70ec2"
      },
      "execution_count": 211,
      "outputs": [
        {
          "output_type": "display_data",
          "data": {
            "text/plain": [
              "<Figure size 400x500 with 1 Axes>"
            ],
            "image/png": "[encoded data removed]"
          },
          "metadata": {}
        },
        {
          "output_type": "display_data",
          "data": {
            "text/plain": [
              "<Figure size 400x500 with 1 Axes>"
            ],
            "image/png": "[encoded data removed]"
          },
          "metadata": {}
        }
      ]
    },
    {
      "cell_type": "markdown",
      "source": [
        "Halle las mismas tres métricas de evaluación para este modelo de clasificación y compare los valores para el performance, respecto al árbol de decisión cuyo hiperparámetro **max_depth** se optimizó. ¿Qué puede concluir?"
      ],
      "metadata": {
        "id": "_xXX6APsNjkV"
      }
    },
    {
      "cell_type": "markdown",
      "source": [
        "Observamos que las métricas siguen el mismo comportamiento al ajustar los hiperparámetros"
      ],
      "metadata": {
        "id": "AHjaNRIEQLlk"
      }
    },
    {
      "cell_type": "markdown",
      "source": [
        "## Clasificador Lineal"
      ],
      "metadata": {
        "id": "7Gew3SaJpJ4y"
      }
    },
    {
      "cell_type": "code",
      "source": [
        "from sklearn.linear_model import SGDClassifier\n",
        "model = SGDClassifier(random_state=22)\n",
        "model.fit(x_train, y_train)\n",
        "y_train_pred2 = model.predict(x_train)\n",
        "y_test_pred2 = model.predict(x_test)"
      ],
      "metadata": {
        "id": "yDXMQWBRpKi-"
      },
      "execution_count": 204,
      "outputs": []
    },
    {
      "cell_type": "code",
      "source": [
        "train_acc = accuracy_score(y_train, y_train_pred2)\n",
        "test_acc = accuracy_score(y_test, y_test_pred2)\n",
        "print(f'Train accuracy: {train_acc:0.3}')\n",
        "print(f'Test accuracy: {test_acc:0.3}')"
      ],
      "metadata": {
        "colab": {
          "base_uri": "https://localhost:8080/"
        },
        "id": "LUCOIgVIphGU",
        "outputId": "2fecc3ac-8d9f-4eec-a8db-f5771084f384"
      },
      "execution_count": 205,
      "outputs": [
        {
          "output_type": "stream",
          "name": "stdout",
          "text": [
            "Train accuracy: 0.967\n",
            "Test accuracy: 0.973\n"
          ]
        }
      ]
    },
    {
      "cell_type": "code",
      "source": [
        "print(\"Train dataset accuracy: %0.03f\" % clasift.score(x_test,y_test))\n",
        "print(\"****Reporte de clasificación sobre conjunto de entrenamiento*****\")\n",
        "print(classification_report(y_train, y_train_pred2))"
      ],
      "metadata": {
        "colab": {
          "base_uri": "https://localhost:8080/"
        },
        "id": "kKlDQEhUpmuL",
        "outputId": "d24a913f-0f35-45da-9484-fff551159b24"
      },
      "execution_count": 206,
      "outputs": [
        {
          "output_type": "stream",
          "name": "stdout",
          "text": [
            "Train dataset accuracy: 0.973\n",
            "****Reporte de clasificación sobre conjunto de entrenamiento*****\n",
            "              precision    recall  f1-score   support\n",
            "\n",
            "           0       0.97      1.00      0.98       430\n",
            "           1       1.00      0.25      0.40        20\n",
            "\n",
            "    accuracy                           0.97       450\n",
            "   macro avg       0.98      0.62      0.69       450\n",
            "weighted avg       0.97      0.97      0.96       450\n",
            "\n"
          ]
        }
      ]
    },
    {
      "cell_type": "code",
      "source": [
        "print(\"Train dataset accuracy: %0.03f\" % clasift.score(x_test,y_test))\n",
        "print(\"****Reporte de clasificación sobre conjunto de evaluación*****\")\n",
        "print(classification_report(y_test, y_test_pred2))"
      ],
      "metadata": {
        "colab": {
          "base_uri": "https://localhost:8080/"
        },
        "id": "YE-V1DZPLiqi",
        "outputId": "bec9cb7a-298c-4a53-8f0a-1dc05a6837b7"
      },
      "execution_count": 207,
      "outputs": [
        {
          "output_type": "stream",
          "name": "stdout",
          "text": [
            "Train dataset accuracy: 0.973\n",
            "****Reporte de clasificación sobre conjunto de evaluación*****\n",
            "              precision    recall  f1-score   support\n",
            "\n",
            "           0       0.97      1.00      0.99       109\n",
            "           1       1.00      0.25      0.40         4\n",
            "\n",
            "    accuracy                           0.97       113\n",
            "   macro avg       0.99      0.62      0.69       113\n",
            "weighted avg       0.97      0.97      0.97       113\n",
            "\n"
          ]
        }
      ]
    },
    {
      "cell_type": "code",
      "source": [
        "matrix = confusion_matrix(y_train, y_train_pred2)\n",
        "matrix_2 = confusion_matrix(y_test, y_test_pred2)"
      ],
      "metadata": {
        "id": "-T-leHXUNEju"
      },
      "execution_count": 208,
      "outputs": []
    },
    {
      "cell_type": "code",
      "source": [
        "cm_display = ConfusionMatrixDisplay(matrix)\n",
        "cm_display_2 = ConfusionMatrixDisplay(matrix_2) #conjunto de evaluación\n",
        "\n",
        "cmap = plt.cm.cool\n",
        "fig, ax = plt.subplots(figsize=(4,5))\n",
        "\n",
        "ax.matshow(matrix, cmap=cmap)\n",
        "for (i, j), z in np.ndenumerate(matrix):\n",
        "    ax.text(j, i, '{:0.1f}'.format(z), ha='center', va='center')\n",
        "ax.set_xlabel('Etiqueta Predicha')\n",
        "ax.set_ylabel('Etiqueta Verdadera')\n",
        "ax.set_title('Matriz de Confusión - Conjunto de Entrenamiento')\n",
        "plt.show()"
      ],
      "metadata": {
        "colab": {
          "base_uri": "https://localhost:8080/",
          "height": 417
        },
        "id": "djT6n_bhNMb_",
        "outputId": "7e323cb6-0227-45bc-bcd9-fcbf197fb65a"
      },
      "execution_count": 209,
      "outputs": [
        {
          "output_type": "display_data",
          "data": {
            "text/plain": [
              "<Figure size 400x500 with 1 Axes>"
            ],
            "image/png": "[encoded data removed]"
          },
          "metadata": {}
        }
      ]
    },
    {
      "cell_type": "code",
      "source": [
        "fig, ax = plt.subplots(figsize=(4,5))\n",
        "\n",
        "ax.matshow(matrix, cmap=cmap)\n",
        "for (i, j), z in np.ndenumerate(matrix_2):\n",
        "    ax.text(j, i, '{:0.1f}'.format(z), ha='center', va='center')\n",
        "ax.set_xlabel('Etiqueta Predicha')\n",
        "ax.set_ylabel('Etiqueta Verdadera')\n",
        "ax.set_title('Matriz de Confusión - Conjunto de Evaluación')\n",
        "plt.show()"
      ],
      "metadata": {
        "colab": {
          "base_uri": "https://localhost:8080/",
          "height": 417
        },
        "id": "g7FTS1NBNOdZ",
        "outputId": "7fb2f0f9-16cc-4e34-e65a-e600d0dba899"
      },
      "execution_count": 210,
      "outputs": [
        {
          "output_type": "display_data",
          "data": {
            "text/plain": [
              "<Figure size 400x500 with 1 Axes>"
            ],
            "image/png": "[encoded data removed]"
          },
          "metadata": {}
        }
      ]
    },
    {
      "cell_type": "markdown",
      "source": [
        "## Modelo RandomForest"
      ],
      "metadata": {
        "id": "oMmediOYuWKq"
      }
    },
    {
      "cell_type": "code",
      "source": [
        "from sklearn.ensemble import RandomForestClassifier"
      ],
      "metadata": {
        "id": "DgKcvrtmuYQy"
      },
      "execution_count": 188,
      "outputs": []
    },
    {
      "cell_type": "code",
      "source": [
        "clf3 = RandomForestClassifier(class_weight='balanced', random_state=42)\n",
        "clf3.fit(x_train, y_train)"
      ],
      "metadata": {
        "colab": {
          "base_uri": "https://localhost:8080/",
          "height": 75
        },
        "id": "h_KParqyuZx0",
        "outputId": "9c7a1b2f-0b5b-4443-e5f5-f654da4f46c4"
      },
      "execution_count": 197,
      "outputs": [
        {
          "output_type": "execute_result",
          "data": {
            "text/plain": [
              "RandomForestClassifier(class_weight='balanced', random_state=42)"
            ],
            "text/html": [
              "<style>#sk-container-id-15 {color: black;background-color: white;}#sk-container-id-15 pre{padding: 0;}#sk-container-id-15 div.sk-toggleable {background-color: white;}#sk-container-id-15 label.sk-toggleable__label {cursor: pointer;display: block;width: 100%;margin-bottom: 0;padding: 0.3em;box-sizing: border-box;text-align: center;}#sk-container-id-15 label.sk-toggleable__label-arrow:before {content: \"▸\";float: left;margin-right: 0.25em;color: #696969;}#sk-container-id-15 label.sk-toggleable__label-arrow:hover:before {color: black;}#sk-container-id-15 div.sk-estimator:hover label.sk-toggleable__label-arrow:before {color: black;}#sk-container-id-15 div.sk-toggleable__content {max-height: 0;max-width: 0;overflow: hidden;text-align: left;background-color: #f0f8ff;}#sk-container-id-15 div.sk-toggleable__content pre {margin: 0.2em;color: black;border-radius: 0.25em;background-color: #f0f8ff;}#sk-container-id-15 input.sk-toggleable__control:checked~div.sk-toggleable__content {max-height: 200px;max-width: 100%;overflow: auto;}#sk-container-id-15 input.sk-toggleable__control:checked~label.sk-toggleable__label-arrow:before {content: \"▾\";}#sk-container-id-15 div.sk-estimator input.sk-toggleable__control:checked~label.sk-toggleable__label {background-color: #d4ebff;}#sk-container-id-15 div.sk-label input.sk-toggleable__control:checked~label.sk-toggleable__label {background-color: #d4ebff;}#sk-container-id-15 input.sk-hidden--visually {border: 0;clip: rect(1px 1px 1px 1px);clip: rect(1px, 1px, 1px, 1px);height: 1px;margin: -1px;overflow: hidden;padding: 0;position: absolute;width: 1px;}#sk-container-id-15 div.sk-estimator {font-family: monospace;background-color: #f0f8ff;border: 1px dotted black;border-radius: 0.25em;box-sizing: border-box;margin-bottom: 0.5em;}#sk-container-id-15 div.sk-estimator:hover {background-color: #d4ebff;}#sk-container-id-15 div.sk-parallel-item::after {content: \"\";width: 100%;border-bottom: 1px solid gray;flex-grow: 1;}#sk-container-id-15 div.sk-label:hover label.sk-toggleable__label {background-color: #d4ebff;}#sk-container-id-15 div.sk-serial::before {content: \"\";position: absolute;border-left: 1px solid gray;box-sizing: border-box;top: 0;bottom: 0;left: 50%;z-index: 0;}#sk-container-id-15 div.sk-serial {display: flex;flex-direction: column;align-items: center;background-color: white;padding-right: 0.2em;padding-left: 0.2em;position: relative;}#sk-container-id-15 div.sk-item {position: relative;z-index: 1;}#sk-container-id-15 div.sk-parallel {display: flex;align-items: stretch;justify-content: center;background-color: white;position: relative;}#sk-container-id-15 div.sk-item::before, #sk-container-id-15 div.sk-parallel-item::before {content: \"\";position: absolute;border-left: 1px solid gray;box-sizing: border-box;top: 0;bottom: 0;left: 50%;z-index: -1;}#sk-container-id-15 div.sk-parallel-item {display: flex;flex-direction: column;z-index: 1;position: relative;background-color: white;}#sk-container-id-15 div.sk-parallel-item:first-child::after {align-self: flex-end;width: 50%;}#sk-container-id-15 div.sk-parallel-item:last-child::after {align-self: flex-start;width: 50%;}#sk-container-id-15 div.sk-parallel-item:only-child::after {width: 0;}#sk-container-id-15 div.sk-dashed-wrapped {border: 1px dashed gray;margin: 0 0.4em 0.5em 0.4em;box-sizing: border-box;padding-bottom: 0.4em;background-color: white;}#sk-container-id-15 div.sk-label label {font-family: monospace;font-weight: bold;display: inline-block;line-height: 1.2em;}#sk-container-id-15 div.sk-label-container {text-align: center;}#sk-container-id-15 div.sk-container {/* jupyter's `normalize.less` sets `[hidden] { display: none; }` but bootstrap.min.css set `[hidden] { display: none !important; }` so we also need the `!important` here to be able to override the default hidden behavior on the sphinx rendered scikit-learn.org. See: https://github.com/scikit-learn/scikit-learn/issues/21755 */display: inline-block !important;position: relative;}#sk-container-id-15 div.sk-text-repr-fallback {display: none;}</style><div id=\"sk-container-id-15\" class=\"sk-top-container\"><div class=\"sk-text-repr-fallback\"><pre>RandomForestClassifier(class_weight=&#x27;balanced&#x27;, random_state=42)</pre><b>In a Jupyter environment, please rerun this cell to show the HTML representation or trust the notebook. <br />On GitHub, the HTML representation is unable to render, please try loading this page with nbviewer.org.</b></div><div class=\"sk-container\" hidden><div class=\"sk-item\"><div class=\"sk-estimator sk-toggleable\"><input class=\"sk-toggleable__control sk-hidden--visually\" id=\"sk-estimator-id-15\" type=\"checkbox\" checked><label for=\"sk-estimator-id-15\" class=\"sk-toggleable__label sk-toggleable__label-arrow\">RandomForestClassifier</label><div class=\"sk-toggleable__content\"><pre>RandomForestClassifier(class_weight=&#x27;balanced&#x27;, random_state=42)</pre></div></div></div></div></div>"
            ]
          },
          "metadata": {},
          "execution_count": 197
        }
      ]
    },
    {
      "cell_type": "code",
      "source": [
        "y_train_pred3 = clf2.predict(x_train)\n",
        "y_test_pred3 = clf2.predict(x_test)"
      ],
      "metadata": {
        "id": "GzWMFh9KuuyR"
      },
      "execution_count": 198,
      "outputs": []
    },
    {
      "cell_type": "code",
      "source": [
        "#Evaluamos sobre el conjunto de entrenamiento y sobre el conjunto de evaluación,\n",
        "# reportando las métricas\n",
        "print(\"Train dataset accuracy: %0.03f\" % clasift.score(x_train,y_train))\n",
        "print(\"****Reporte de clasificación sobre conjunto de entrenamiento*****\")\n",
        "print(classification_report(y_train, y_train_pred3))"
      ],
      "metadata": {
        "colab": {
          "base_uri": "https://localhost:8080/"
        },
        "id": "2rKhPWzUvYlY",
        "outputId": "a690e106-b38c-40ab-8cff-8bd29fd056fb"
      },
      "execution_count": 199,
      "outputs": [
        {
          "output_type": "stream",
          "name": "stdout",
          "text": [
            "Train dataset accuracy: 0.967\n",
            "****Reporte de clasificación sobre conjunto de entrenamiento*****\n",
            "              precision    recall  f1-score   support\n",
            "\n",
            "           0       0.97      0.88      0.92       430\n",
            "           1       0.16      0.50      0.24        20\n",
            "\n",
            "    accuracy                           0.86       450\n",
            "   macro avg       0.57      0.69      0.58       450\n",
            "weighted avg       0.94      0.86      0.89       450\n",
            "\n"
          ]
        }
      ]
    },
    {
      "cell_type": "code",
      "source": [
        "matrix = confusion_matrix(y_train, y_train_pred3)\n",
        "matrix_2 = confusion_matrix(y_test, y_test_pred3)"
      ],
      "metadata": {
        "id": "D-2VP0cuEa7l"
      },
      "execution_count": 192,
      "outputs": []
    },
    {
      "cell_type": "code",
      "source": [
        "cm_display = ConfusionMatrixDisplay(matrix)\n",
        "cm_display_2 = ConfusionMatrixDisplay(matrix_2) #conjunto de evaluación\n",
        "\n",
        "cmap = plt.cm.cool\n",
        "fig, ax = plt.subplots(figsize=(4,5))\n",
        "\n",
        "ax.matshow(matrix, cmap=cmap)\n",
        "for (i, j), z in np.ndenumerate(matrix):\n",
        "    ax.text(j, i, '{:0.1f}'.format(z), ha='center', va='center')\n",
        "ax.set_xlabel('Etiqueta Predicha')\n",
        "ax.set_ylabel('Etiqueta Verdadera')\n",
        "ax.set_title('Matriz de Confusión - Conjunto de Entrenamiento')\n",
        "plt.show()"
      ],
      "metadata": {
        "colab": {
          "base_uri": "https://localhost:8080/",
          "height": 417
        },
        "id": "ZdcYjWj4EgTe",
        "outputId": "f2e388e7-d88d-416e-c63d-5fae2f414e2e"
      },
      "execution_count": 200,
      "outputs": [
        {
          "output_type": "display_data",
          "data": {
            "text/plain": [
              "<Figure size 400x500 with 1 Axes>"
            ],
            "image/png": "[encoded data removed]"
          },
          "metadata": {}
        }
      ]
    },
    {
      "cell_type": "code",
      "source": [
        "fig, ax = plt.subplots(figsize=(4,5))\n",
        "\n",
        "ax.matshow(matrix, cmap=cmap)\n",
        "for (i, j), z in np.ndenumerate(matrix_2):\n",
        "    ax.text(j, i, '{:0.1f}'.format(z), ha='center', va='center')\n",
        "ax.set_xlabel('Etiqueta Predicha')\n",
        "ax.set_ylabel('Etiqueta Verdadera')\n",
        "ax.set_title('Matriz de Confusión - Conjunto de Evaluación')\n",
        "plt.show()"
      ],
      "metadata": {
        "colab": {
          "base_uri": "https://localhost:8080/",
          "height": 417
        },
        "id": "U2mSusyXIg68",
        "outputId": "18fabaee-d752-4c87-dc53-e1a256675f4f"
      },
      "execution_count": 201,
      "outputs": [
        {
          "output_type": "display_data",
          "data": {
            "text/plain": [
              "<Figure size 400x500 with 1 Axes>"
            ],
            "image/png": "[encoded data removed]"
          },
          "metadata": {}
        }
      ]
    },
    {
      "cell_type": "code",
      "source": [
        "print(\"Train dataset accuracy: %0.03f\" % clasift.score(x_test,y_test))\n",
        "print(\"****Reporte de clasificación sobre conjunto de evaluación*****\")\n",
        "print(classification_report(y_test, y_test_pred3))"
      ],
      "metadata": {
        "colab": {
          "base_uri": "https://localhost:8080/"
        },
        "id": "BlXFGfTaJVpL",
        "outputId": "c49a9980-5205-4f19-fd9a-981bfc6b9c35"
      },
      "execution_count": 202,
      "outputs": [
        {
          "output_type": "stream",
          "name": "stdout",
          "text": [
            "Train dataset accuracy: 0.973\n",
            "****Reporte de clasificación sobre conjunto de evaluación*****\n",
            "              precision    recall  f1-score   support\n",
            "\n",
            "           0       0.97      0.94      0.95       109\n",
            "           1       0.12      0.25      0.17         4\n",
            "\n",
            "    accuracy                           0.91       113\n",
            "   macro avg       0.55      0.59      0.56       113\n",
            "weighted avg       0.94      0.91      0.93       113\n",
            "\n"
          ]
        }
      ]
    },
    {
      "cell_type": "markdown",
      "source": [
        "## **De acuerdo con lo aprendido en el módulo, ¿Cómo cree que se puede mejorar el performance de este modelo?**"
      ],
      "metadata": {
        "id": "9szDNnx5OWvt"
      }
    },
    {
      "cell_type": "markdown",
      "source": [
        "Respuesta: Dado que se entrenaron los modelos con distintas combinaciones de featrures según la correlación y las perfomances no mejoraron, se aconseja realizar un nuevo relevamiento de variables en el dataset original. Observamos un sobreajuste."
      ],
      "metadata": {
        "id": "40dtJ8tqPgLg"
      }
    }
  ],
  "metadata": {
    "kernelspec": {
      "display_name": "Python 3",
      "language": "python",
      "name": "python3"
    },
    "language_info": {
      "codemirror_mode": {
        "name": "ipython",
        "version": 3
      },
      "file_extension": ".py",
      "mimetype": "text/x-python",
      "name": "python",
      "nbconvert_exporter": "python",
      "pygments_lexer": "ipython3",
      "version": "3.7.8"
    },
    "orig_nbformat": 4,
    "vscode": {
      "interpreter": {
        "hash": "ae0e7af47f894f9476ada5eb18ddb08363018cc3b7dc70bce08ae16d38df8604"
      }
    },
    "colab": {
      "provenance": [],
      "include_colab_link": true
    }
  },
  "nbformat": 4,
  "nbformat_minor": 0
}